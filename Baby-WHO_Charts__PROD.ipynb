{
 "cells": [
  {
   "cell_type": "code",
   "execution_count": null,
   "metadata": {},
   "outputs": [],
   "source": [
    "#Test kernel\n",
    "6*7"
   ]
  },
  {
   "cell_type": "code",
   "execution_count": null,
   "metadata": {},
   "outputs": [],
   "source": [
    "import os\n",
    "import pandas as pd\n",
    "import matplotlib as mpl\n",
    "import numpy as np\n",
    "import matplotlib.pyplot as plt\n",
    "from scipy import ndimage\n",
    "import datetime as dt\n",
    "from datetime import date\n",
    "from dateutil.relativedelta import relativedelta\n",
    "import math\n",
    "#from pprint import pprint \n",
    "from IPython.core.display import HTML\n",
    "\n",
    "import smtplib, ssl\n",
    "from email.mime.text import MIMEText\n",
    "from email.mime.image import MIMEImage\n",
    "from email.mime.multipart import MIMEMultipart\n",
    "\n",
    "from IPython.display import clear_output\n",
    "\n",
    "#set directory to import labelLine.py\n",
    "os.chdir(\"./\")\n",
    "from labelLine import *\n",
    "\n",
    "def printHnT(df, x, asHTML=False):\n",
    "    boolConcat = False if (len(df) < 2*x) else True\n",
    "    if asHTML:\n",
    "        if boolConcat:\n",
    "            display(HTML(pd.concat([df.head(x), df.tail(x)]).to_html()))\n",
    "        else:\n",
    "            display(HTML(df.to_html()))\n",
    "    else:\n",
    "        if boolConcat:\n",
    "            print(pd.concat([df.head(x), df.tail(x)]).to_string())\n",
    "        else:\n",
    "            print(df.to_string())"
   ]
  },
  {
   "cell_type": "markdown",
   "metadata": {},
   "source": [
    "# Personalize Here"
   ]
  },
  {
   "cell_type": "code",
   "execution_count": null,
   "metadata": {},
   "outputs": [],
   "source": [
    "#Baby's Name:\n",
    "babyName = \"Wonko\"\n",
    "\n",
    "#Baby's birthday:\n",
    "babyBDay = pd.Timestamp('2020-01-01 12:00:00')\n",
    "\n",
    "#Baby's gender (F/M)\n",
    "babyGender = \"M\"\n",
    "\n",
    "#Baby's dataFile\n",
    "babyFile = \"Wonko.xlsx\"\n",
    "\n",
    "#Set working Directory\n",
    "workDir = \"./\"\n",
    "os.chdir(workDir)\n",
    "\n",
    "#set directory for data\n",
    "dirData = \"\" #set to code root\n",
    "\n",
    "#select category to plot separately\n",
    "catSel = 5"
   ]
  },
  {
   "cell_type": "code",
   "execution_count": null,
   "metadata": {},
   "outputs": [],
   "source": [
    "#Set up e-mail sending\n",
    "emailSender = \"someAddressThatExists@gmail.com\" #smtp set to gmail...\n",
    "emailReceiver = ['someAddressThatExists@gmail.com', 'anotherAddressThatExists@gmail.com']\n",
    "password = input(\"Type your password for sender e-mail address and press enter:\")\n",
    "clear_output()"
   ]
  },
  {
   "cell_type": "code",
   "execution_count": null,
   "metadata": {},
   "outputs": [],
   "source": [
    "emailSubject = babyName+\"\\s data\"\n",
    "emailBody = \"A summary of the baby's growth.\"\n",
    "\n",
    "#select plots to attach to mail:\n",
    "dPics = {\n",
    "    \"WLarge\": {\"toSend\": True},\n",
    "    \"WZoom\": {\"toSend\": True},\n",
    "    \"WZoomSelected\": {\"toSend\": True},\n",
    "    \"HLarge\": {\"toSend\": True},\n",
    "    \"WHLarge\": {\"toSend\": True}\n",
    "}\n",
    "\n",
    "#Set data table to send (Weight with closest percentiles)\n",
    "boolTable = True\n",
    "daysInTable = 14"
   ]
  },
  {
   "cell_type": "markdown",
   "metadata": {},
   "source": [
    "# Load Baby's Data "
   ]
  },
  {
   "cell_type": "code",
   "execution_count": null,
   "metadata": {},
   "outputs": [],
   "source": [
    "excelBaby = pd.ExcelFile(dirData+babyFile)\n",
    "\n",
    "#Weight\n",
    "dfW = excelBaby.parse('Weight')\n",
    "\n",
    "#Weight\n",
    "dfH = excelBaby.parse('Height')\n",
    "\n",
    "#TODO: Head Circumference\n",
    "#dfHC = excelBaby.parse('HeadCirc')"
   ]
  },
  {
   "cell_type": "markdown",
   "metadata": {},
   "source": [
    "# Load WHO Data"
   ]
  },
  {
   "cell_type": "code",
   "execution_count": null,
   "metadata": {},
   "outputs": [],
   "source": [
    "def fetchWHOData(urlWHO, dirData, fileName):\n",
    "    print(\"> Reading WHO data: \", fileName)\n",
    "    try:\n",
    "        print(\">> Fetching from WHO site\")\n",
    "        return pd.read_csv(urlWHO+fileName,sep=\"\\t\")\n",
    "    except:\n",
    "        print(\">> URL failed. Reading data from file.\")\n",
    "        try:\n",
    "            return pd.read_csv(dirData+fileName,sep=\"\\t\")\n",
    "        except:\n",
    "            raise Exception(\"Error: Missing WHO data:\", fileName)"
   ]
  },
  {
   "cell_type": "code",
   "execution_count": null,
   "metadata": {},
   "outputs": [],
   "source": [
    "urlWHO = \"https://www.who.int/childgrowth/standards/\"\n",
    "\n",
    "gender = \"boys\" if (babyGender == \"M\") else \"girls\"\n",
    "\n",
    "#Weight\n",
    "fileNameWHOWeight = \"wfa_\"+gender+\"_p_exp.txt\"\n",
    "dfWFA = fetchWHOData(urlWHO, dirData, fileNameWHOWeight)\n",
    "\n",
    "#Height\n",
    "fileNameWHOHeight02 = \"lhfa_\"+gender+\"_p_exp.txt\"\n",
    "dfHFA = fetchWHOData(urlWHO, dirData, fileNameWHOHeight02)\n",
    "\n",
    "#lengthe/Height to Weight\n",
    "fileNameWHOLengtht02 = \"wfl_\"+gender+\"_p_exp.txt\"\n",
    "dfWFH02 = fetchWHOData(urlWHO, dirData, fileNameWHOLengtht02)\n",
    "fileNameWHOHeight25 = \"wfh_\"+gender+\"_p_exp.txt\"\n",
    "dfWFH25 = fetchWHOData(urlWHO, dirData, fileNameWHOHeight25)\n",
    "\n",
    "print(\"> Data Fetching finished.\")\n",
    "\n",
    "#TODO: Head Circumference\n",
    "#https://www.who.int/childgrowth/standards/hc_for_age/en/"
   ]
  },
  {
   "cell_type": "markdown",
   "metadata": {},
   "source": [
    "---\n",
    "# Weight"
   ]
  },
  {
   "cell_type": "code",
   "execution_count": null,
   "metadata": {},
   "outputs": [],
   "source": [
    "dfWFA.rename(columns={\"Age\": \"days\"}, inplace=True)\n",
    "dfWFA[\"weeks\"] = dfWFA['days']/7.\n",
    "dfWFA[\"DT\"] = dfWFA[\"days\"].apply(lambda x: babyBDay + dt.timedelta(days=x))\n",
    "dfWFA[\"Date\"] = dfWFA[\"DT\"].apply(lambda x: x.date())\n",
    "#dfWFA.head()"
   ]
  },
  {
   "cell_type": "code",
   "execution_count": null,
   "metadata": {},
   "outputs": [],
   "source": [
    "dfW[\"DT\"] = pd.to_datetime(dfW[\"DT\"], format='%Y.%m.%d %H:%M')\n",
    "dfW[\"Date\"] = dfW[\"DT\"].apply(lambda x: x.date())\n",
    "#dfW[\"Date\"] = pd.to_datetime(dfW[\"Date\"], format='%Y.%m.%d')\n",
    "dfW[\"W\"] = dfW[\"W\"] / 1000.\n",
    "dfW[\"Err\"] = dfW[\"Err\"] / 1000.\n",
    "#dfW[\"days\"] = (dfW['Date'] - bDay).dt.days\n",
    "dfW[\"days\"] = (86400*((dfW['DT'] - babyBDay).dt.days)+((dfW['DT'] - babyBDay).dt.seconds))/86400\n",
    "#dfW[\"days\"] = ((dfW['DT'] - bDay).dt.days)\n",
    "dfW[\"weeks\"] = dfW['days']/7.\n",
    "printHnT(dfW,3)"
   ]
  },
  {
   "cell_type": "code",
   "execution_count": null,
   "metadata": {},
   "outputs": [],
   "source": [
    "xMin = 0\n",
    "#yMin = 2.75\n",
    "yMin = dfWFA[\"P1\"].min()\n",
    "xPLus = 5\n",
    "yPlus = 0.1\n",
    "xMax = dfW['days'].max() + xPLus\n",
    "yMax = dfW['W'].max() + yPlus"
   ]
  },
  {
   "cell_type": "code",
   "execution_count": null,
   "metadata": {},
   "outputs": [],
   "source": [
    "#Percentile Column Llist\n",
    "lColsP = [x for x in dfWFA.columns if 'P' in x]"
   ]
  },
  {
   "cell_type": "code",
   "execution_count": null,
   "metadata": {},
   "outputs": [],
   "source": [
    "fig, ax = plt.subplots(figsize=(20, 10))\n",
    "\n",
    "tAxis = \"days\"\n",
    "ax.set_xlim(xMin,xMax)\n",
    "ax.set_ylim(yMin,yMax)\n",
    "\n",
    "for i in lColsP:\n",
    "    ax.plot(dfWFA[tAxis], dfWFA[i], label=str(i), lw=0.5)\n",
    "labelLines(plt.gca().get_lines(),zorder=2.5)\n",
    "\n",
    "ax.errorbar(dfW[tAxis], dfW[\"W\"], yerr=dfW[\"Err\"], c=\"b\", label=babyName, lw=1, marker=\"\")\n",
    "ax.plot(dfW[dfW[\"officialFlag\"]=='y'][tAxis], dfW[dfW[\"officialFlag\"]=='y'][\"W\"], c=\"r\", lw=0, marker=\"o\")\n",
    "    \n",
    "ax.set(xlabel='time (d)', ylabel='weight (kg)', title=babyName+'\\'s weight')\n",
    "ax.grid()\n",
    "\n",
    "dPics[\"WLarge\"][\"fName\"] = dirData+babyName+\"_W.png\"\n",
    "fig.savefig(dPics[\"WLarge\"][\"fName\"], bbox_inches = 'tight')\n",
    "plt.show()"
   ]
  },
  {
   "cell_type": "code",
   "execution_count": null,
   "metadata": {},
   "outputs": [],
   "source": [
    "xLookBack = 21 #from xMax"
   ]
  },
  {
   "cell_type": "code",
   "execution_count": null,
   "metadata": {},
   "outputs": [],
   "source": [
    "dfWFA['days'] = dfWFA['days'].astype(float)\n",
    "#identify main and neighbour percentiles\n",
    "\n",
    "dSrt = int(dfW[\"days\"].max())+xPLus-xLookBack\n",
    "dEnd = int(dfW[\"days\"].max())\n",
    "dfAllDt = pd.concat([dfW[(dSrt <= dfW[\"days\"]) & (dfW[\"days\"] <= dEnd)][['days']],\n",
    "           dfWFA[(dSrt <= dfWFA[\"days\"]) & (dfWFA[\"days\"] <= dEnd)][['days']]]).sort_values(by='days')\n",
    "dfAllDt = dfAllDt.merge(dfW[['days', 'W']], on='days', how='left')\n",
    "\n",
    "distance = 1e6\n",
    "indexP = 0\n",
    "\n",
    "#find the closes Percentile\n",
    "for i,p in enumerate(lColsP):\n",
    "    dfTMP = dfAllDt.merge(dfWFA[['days', p]], on='days', how='left')\n",
    "    dfTMP[p] = dfTMP[p].interpolate(method='linear', axis=0).bfill()\n",
    "    dfTMP['diff'] = abs(dfTMP[p] - dfTMP['W'])\n",
    "    distTmp = dfTMP['diff'].fillna(0.0).sum()\n",
    "    if distTmp < distance:\n",
    "        distance = distTmp\n",
    "        indexP = i\n",
    "    if (distTmp > distance) & (i > 0):\n",
    "        break\n",
    "        \n",
    "#Set the 3 percentiles to show:\n",
    "p1st = \"\"\n",
    "p2nd = \"\"\n",
    "p3rd = \"\"\n",
    "\n",
    "if indexP == 0:\n",
    "    p1st = lColsP[0]\n",
    "    p2nd = lColsP[1]\n",
    "    p3rd = lColsP[2]\n",
    "elif indexP == (len(lColsP)-1):\n",
    "    p1st = lColsP[-3]\n",
    "    p2nd = lColsP[-2]\n",
    "    p3rd = lColsP[-1]\n",
    "else:\n",
    "    p1st = lColsP[indexP-1]\n",
    "    p2nd = lColsP[indexP]\n",
    "    p3rd = lColsP[indexP+1]\n",
    "    \n",
    "print(p1st, p2nd, p3rd)"
   ]
  },
  {
   "cell_type": "code",
   "execution_count": null,
   "metadata": {},
   "outputs": [],
   "source": [
    "#set plot axis limits\n",
    "x1 = max(0,xMax-xLookBack)\n",
    "x2 = xMax\n",
    "y1 = dfWFA[dfWFA['days'] == math.ceil(x1)][p1st].iloc[0]\n",
    "y2 = yMax"
   ]
  },
  {
   "cell_type": "code",
   "execution_count": null,
   "metadata": {},
   "outputs": [],
   "source": [
    "tAxis = \"days\"\n",
    "try:\n",
    "    hList = dfW[~dfW['cat'].isnull()]['cat'].astype(int).drop_duplicates().sort_values().unique()\n",
    "    subFix = \" h\"\n",
    "except:\n",
    "    hList = dfW[~dfW['cat'].isnull()]['cat'].drop_duplicates().sort_values().unique()\n",
    "    subFix = \"\""
   ]
  },
  {
   "cell_type": "code",
   "execution_count": null,
   "metadata": {},
   "outputs": [],
   "source": [
    "#ploat 1st 8 categories\n",
    "fig, axs = plt.subplots(nrows=4, ncols=2,figsize=(15,15))\n",
    "axs = np.array(axs)\n",
    "\n",
    "for i,ax in enumerate(axs.reshape(-1)):\n",
    "    h=hList[i]\n",
    "    ax.set_xlim(x1,x2)\n",
    "    ax.set_ylim(y1,y2)\n",
    "    ax.plot(dfWFA[tAxis], dfWFA[p1st],  c=\"b\", label=str(p1st), lw=1)\n",
    "    ax.plot(dfWFA[tAxis], dfWFA[p2nd],  c=\"g\", label=str(p2nd), lw=1)\n",
    "    ax.plot(dfWFA[tAxis], dfWFA[p3rd],  c=\"orange\", label=str(p3rd), lw=1)\n",
    "    ax.plot(dfW[dfW[\"cat\"]==h][tAxis], dfW[dfW[\"cat\"]==h][\"W\"], c=\"r\", label=str(h)+subFix, lw=1, marker=\"o\")\n",
    "    ax.plot(dfW[tAxis], dfW[\"W\"], c=\"k\", alpha=0.25, lw=1)\n",
    "    ax.set(ylabel='weight (kg)', title=str(h)+subFix)\n",
    "    ax.legend(loc='lower right')\n",
    "    ax.grid()\n",
    "    \n",
    "dPics[\"WZoom\"][\"fName\"] = dirData+babyName+\"_W_categ.png\"\n",
    "fig.savefig(dPics[\"WZoom\"][\"fName\"], bbox_inches = 'tight')\n",
    "plt.show()"
   ]
  },
  {
   "cell_type": "code",
   "execution_count": null,
   "metadata": {},
   "outputs": [],
   "source": [
    "fig, ax = plt.subplots(figsize=(7.5, 4))\n",
    "\n",
    "ax.set_xlim(x1,x2)\n",
    "ax.set_ylim(y1,y2)\n",
    "ax.plot(dfWFA[tAxis], dfWFA[p1st],  c=\"b\", label=str(p1st), lw=1)\n",
    "ax.plot(dfWFA[tAxis], dfWFA[p2nd],  c=\"g\", label=str(p2nd), lw=1)\n",
    "ax.plot(dfWFA[tAxis], dfWFA[p3rd],  c=\"orange\", label=str(p3rd), lw=1)\n",
    "ax.plot(dfW[dfW[\"cat\"]==catSel][tAxis], dfW[dfW[\"cat\"]==catSel][\"W\"], c=\"r\", label=str(h)+subFix, lw=1, marker=\"o\")\n",
    "ax.plot(dfW[tAxis], dfW[\"W\"], c=\"k\", alpha=0.25, lw=1)\n",
    "ax.set(xlabel='time (d)', ylabel='weight (kg)', title=str(catSel)+subFix)\n",
    "ax.legend(loc='lower right')\n",
    "ax.grid()\n",
    "\n",
    "dPics[\"WZoomSelected\"][\"fName\"] = dirData+babyName+\"_\"+str(catSel)+\".png\" \n",
    "fig.savefig(dPics[\"WZoomSelected\"][\"fName\"], bbox_inches = 'tight')\n",
    "plt.show()"
   ]
  },
  {
   "cell_type": "markdown",
   "metadata": {},
   "source": [
    "---\n",
    "# Height"
   ]
  },
  {
   "cell_type": "code",
   "execution_count": null,
   "metadata": {},
   "outputs": [],
   "source": [
    "dfHFA.rename(columns={\"Day\": \"days\"}, inplace=True)\n",
    "dfHFA[\"weeks\"] = dfHFA['days']/7.\n",
    "dfHFA[\"DT\"] = dfHFA[\"days\"].apply(lambda x: babyBDay + dt.timedelta(days=x))\n",
    "dfHFA[\"Date\"] = dfHFA[\"DT\"].apply(lambda x: x.date())"
   ]
  },
  {
   "cell_type": "code",
   "execution_count": null,
   "metadata": {},
   "outputs": [],
   "source": [
    "dfH = dfH.copy()\n",
    "dfH[\"DT\"] = pd.to_datetime(dfH[\"DT\"], format='%Y.%m.%d %H:%M')\n",
    "dfH[\"Date\"] = dfH[\"DT\"].apply(lambda x: x.date())\n",
    "dfH[\"days\"] = (86400*((dfH['DT'] - babyBDay).dt.days)+((dfH['DT'] - babyBDay).dt.seconds))/86400\n",
    "dfH[\"weeks\"] = dfH['days']/7.\n",
    "printHnT(dfH,3)"
   ]
  },
  {
   "cell_type": "code",
   "execution_count": null,
   "metadata": {},
   "outputs": [],
   "source": [
    "xMin = 0\n",
    "yMin = dfHFA[\"P1\"].min()\n",
    "xPLus = 5\n",
    "yPlus = 0.5\n",
    "xMax = dfH['days'].max() + xPLus\n",
    "yMax = dfH['H'].max() + yPlus"
   ]
  },
  {
   "cell_type": "code",
   "execution_count": null,
   "metadata": {},
   "outputs": [],
   "source": [
    "#Percentile Column Llist\n",
    "lColsP = [x for x in dfHFA.columns if 'P' in x]"
   ]
  },
  {
   "cell_type": "code",
   "execution_count": null,
   "metadata": {},
   "outputs": [],
   "source": [
    "fig, ax = plt.subplots(figsize=(20, 10))\n",
    "\n",
    "tAxis = \"days\"\n",
    "ax.set_xlim(xMin,xMax)\n",
    "ax.set_ylim(yMin,yMax)\n",
    "\n",
    "for i in lColsP:\n",
    "    ax.plot(dfHFA[tAxis], dfHFA[i], label=str(i), lw=0.5)\n",
    "labelLines(plt.gca().get_lines(),zorder=2.5)\n",
    "\n",
    "ax.plot(dfH[tAxis], dfH[\"H\"], c=\"b\", label=babyName, lw=2, marker=\".\")\n",
    "ax.plot(dfH[dfH[\"officialFlag\"]=='y'][tAxis], dfH[dfH[\"officialFlag\"]=='y'][\"H\"], c=\"r\", lw=0, marker=\"o\")\n",
    "    \n",
    "ax.set(xlabel='time (days)', ylabel='height (cm)', title=babyName+'\\'s height')\n",
    "ax.grid()\n",
    "\n",
    "dPics[\"HLarge\"][\"fName\"] = dirData+babyName+\"_H.png\"\n",
    "fig.savefig(dPics[\"HLarge\"][\"fName\"], bbox_inches = 'tight')\n",
    "plt.show()"
   ]
  },
  {
   "cell_type": "markdown",
   "metadata": {},
   "source": [
    "---\n",
    "# Height to Weight"
   ]
  },
  {
   "cell_type": "code",
   "execution_count": null,
   "metadata": {},
   "outputs": [],
   "source": [
    "#use daily average weight values\n",
    "dfW[\"Date\"] = dfW[\"DT\"].apply(lambda x: x.date())\n",
    "dfWDailyAvg = pd.DataFrame(dfW.groupby(\"Date\")[\"W\"].mean()).reset_index()\n",
    "\n",
    "dfWH = dfWFA[['Date']].drop_duplicates()\n",
    "dfWH = dfWH.merge(dfWDailyAvg, on=['Date'], how = \"left\")\n",
    "dfWH = dfWH.merge(dfH[['Date', 'H']], on=['Date'], how='left')\n",
    "dfWH = dfWH[~((dfWH[\"W\"].isnull()) | (dfWH[\"H\"].isnull()))]\n",
    "dfWH[\"DT\"] = pd.to_datetime(dfWH[\"Date\"], format='%Y-%m-%d')\n",
    "dfWH[\"years\"] = dfWH[\"DT\"].apply(lambda x: relativedelta(x, babyBDay).years)\n",
    "printHnT(dfWH,3)"
   ]
  },
  {
   "cell_type": "markdown",
   "metadata": {},
   "source": [
    "## Under 2 years"
   ]
  },
  {
   "cell_type": "code",
   "execution_count": null,
   "metadata": {},
   "outputs": [],
   "source": [
    "dfWH02 = dfWH[dfWH[\"years\"] <= 2]\n",
    "#dfWFH02"
   ]
  },
  {
   "cell_type": "code",
   "execution_count": null,
   "metadata": {},
   "outputs": [],
   "source": [
    "xMin = dfWFH02[\"Length\"].min()\n",
    "yMin = dfWFH02[\"P1\"].min()\n",
    "xPLus = 2\n",
    "yPlus = 0.5\n",
    "xMax = dfWH02['H'].max() + xPLus\n",
    "yMax = dfWH02['W'].max() + yPlus"
   ]
  },
  {
   "cell_type": "code",
   "execution_count": null,
   "metadata": {},
   "outputs": [],
   "source": [
    "#Percentile Column Llist\n",
    "lColsP = [x for x in dfWFH02.columns if 'P' in x]"
   ]
  },
  {
   "cell_type": "code",
   "execution_count": null,
   "metadata": {},
   "outputs": [],
   "source": [
    "fig, ax = plt.subplots(figsize=(20, 10))\n",
    "\n",
    "tAxis = \"Length\"\n",
    "ax.set_xlim(xMin,xMax)\n",
    "ax.set_ylim(yMin,yMax)\n",
    "\n",
    "for i in lColsP:\n",
    "    ax.plot(dfWFH02['Length'], dfWFH02[i], label=str(i), lw=0.5)\n",
    "labelLines(plt.gca().get_lines(),zorder=2.5)\n",
    "\n",
    "ax.plot(dfWH02[\"H\"], dfWH02[\"W\"], c=\"b\", label=babyName, lw=2, marker=\".\")\n",
    "    \n",
    "ax.set(xlabel=tAxis, ylabel='weight (kg)', title=babyName+'\\'s Length-Weight chart (between 0 and 2 years)')\n",
    "ax.grid()\n",
    "\n",
    "dPics[\"WHLarge\"][\"fName\"] = dirData+babyName+\"_LW_02.png\"\n",
    "fig.savefig(dPics[\"WHLarge\"][\"fName\"], bbox_inches = 'tight')\n",
    "plt.show()"
   ]
  },
  {
   "cell_type": "markdown",
   "metadata": {},
   "source": [
    "---\n",
    "## Above 2 years"
   ]
  },
  {
   "cell_type": "code",
   "execution_count": null,
   "metadata": {},
   "outputs": [],
   "source": [
    "dfWH25 = dfWH[dfWH[\"years\"] >= 2]\n",
    "#dfWFH25"
   ]
  },
  {
   "cell_type": "code",
   "execution_count": null,
   "metadata": {},
   "outputs": [],
   "source": [
    "if len(dfWH25) > 0:\n",
    "    xMin = dfWFH25[\"Length\"].min()\n",
    "    yMin = dfWFH25[\"P1\"].min()\n",
    "    xPLus = 2\n",
    "    yPlus = 0.5\n",
    "    xMax = dfWH25['H'].max() + xPLus\n",
    "    yMax = dfWH25['W'].max() + yPlus"
   ]
  },
  {
   "cell_type": "code",
   "execution_count": null,
   "metadata": {},
   "outputs": [],
   "source": [
    "#Percentile Column Llist\n",
    "lColsP = [x for x in dfWFH25.columns if 'P' in x]"
   ]
  },
  {
   "cell_type": "code",
   "execution_count": null,
   "metadata": {},
   "outputs": [],
   "source": [
    "if len(dfWH25) > 0:\n",
    "    fig, ax = plt.subplots(figsize=(20, 10))\n",
    "\n",
    "    tAxis = \"Height\"\n",
    "    ax.set_xlim(xMin,xMax)\n",
    "    ax.set_ylim(yMin,yMax)\n",
    "\n",
    "    for i in lColsP:\n",
    "        ax.plot(dfWFH02['Height'], dfWFH25[i], label=str(i), lw=0.5)\n",
    "    labelLines(plt.gca().get_lines(),zorder=2.5)\n",
    "\n",
    "    ax.plot(dfWH25[\"H\"], dfWH25[\"W\"], c=\"b\", label=babyName, lw=2, marker=\".\")\n",
    "\n",
    "    ax.set(xlabel=tAxis, ylabel='weight (kg)', title=babyName+'\\'s Height-Weight chart (between 2 and 5 years)')\n",
    "    ax.grid()\n",
    "\n",
    "    #sending only this if available (and needed)\n",
    "    dPics[\"WHLarge\"][\"fName\"] = dirData+babyName+\"_HW_25.png\"\n",
    "    fig.savefig(dPics[\"WHLarge\"][\"fName\"], bbox_inches = 'tight')\n",
    "    plt.show()"
   ]
  },
  {
   "cell_type": "markdown",
   "metadata": {},
   "source": [
    "---\n",
    "---\n",
    "# Export CSV: 3 closest percentiles with differences"
   ]
  },
  {
   "cell_type": "code",
   "execution_count": null,
   "metadata": {},
   "outputs": [],
   "source": [
    "dfxport = dfWFA[['days','Date',p1st,p2nd,p3rd]].drop_duplicates()\n",
    "dfxport['d'] = dfxport['Date'].apply(lambda x: x.strftime('%a'))\n",
    "dfxport = dfxport.merge(dfW[dfW['cat']==catSel][['Date', 'W']], on=['Date'], how = \"left\")\n",
    "dfxport = dfxport[~dfxport['W'].isnull()][['Date','d','days','W', p1st, p2nd,p3rd]]\n",
    "dfxport['d'+p1st] = dfxport[p1st] - dfxport['W']\n",
    "dfxport['d'+p2nd] = dfxport[p2nd] - dfxport['W']\n",
    "dfxport['d'+p3rd] = dfxport[p3rd] - dfxport['W']\n",
    "\n",
    "dfxport['d'+p1st] = dfxport['d'+p1st].apply(lambda x: round(x, 3))\n",
    "dfxport['d'+p2nd] = dfxport['d'+p2nd].apply(lambda x: round(x, 3))\n",
    "dfxport['d'+p3rd] = dfxport['d'+p3rd].apply(lambda x: round(x, 3))\n",
    "dfxport[p1st] = dfxport[p1st].apply(lambda x: round(x, 3))\n",
    "dfxport[p2nd] = dfxport[p2nd].apply(lambda x: round(x, 3))\n",
    "dfxport[p3rd] = dfxport[p3rd].apply(lambda x: round(x, 3))\n",
    "dfxport['W'] = dfxport['W'].apply(lambda x: round(x, 3))\n",
    "dfxport.to_csv(dirData+babyName+\"_deltas.csv\", index=False, sep='\\t')\n",
    "printHnT(dfxport,3)"
   ]
  },
  {
   "cell_type": "markdown",
   "metadata": {},
   "source": [
    "# Create table to send"
   ]
  },
  {
   "cell_type": "code",
   "execution_count": null,
   "metadata": {},
   "outputs": [],
   "source": [
    "if boolTable:\n",
    "    dfSend = dfxport.tail(daysInTable).copy()\n",
    "    dfSendx = dfSend[['Date','d','days','W', 'd'+p1st, 'd'+p2nd,'d'+p3rd]].copy()\n",
    "    dfSendx.columns = ['Date','d','days','W', p1st, p2nd, p3rd]\n",
    "    dfSendy = dfSend[['Date','d','days','W', p1st, p2nd, p3rd]].copy()\n",
    "    dfSendy['Date'] = ''\n",
    "    dfSendy['d'] = ''\n",
    "    dfSendy['W'] = ''\n",
    "    dfSendy['days'] = dfSendy['days']-.5\n",
    "    dfSend = pd.concat([dfSendx,dfSendy]).sort_values('days', ascending=False)\n",
    "    dfSend['days'] = dfSend['days'].astype(int)\n",
    "    dfSend['days'] = np.where(dfSend['d']=='',\"\", dfSend['days'])\n",
    "    dfSend.head(4)"
   ]
  },
  {
   "cell_type": "markdown",
   "metadata": {},
   "source": [
    "## Transform table to HTML code"
   ]
  },
  {
   "cell_type": "code",
   "execution_count": null,
   "metadata": {},
   "outputs": [],
   "source": [
    "if boolTable:\n",
    "    table = \"<table> <tr>\"\n",
    "    for i in dfSend.columns:\n",
    "        table += \"<th>\"+i+\"</th>\"\n",
    "    table += \"</tr><tr>\"\n",
    "    for i,y in enumerate(dfSend['Date']):\n",
    "        for j,x in enumerate(dfSend.columns):\n",
    "            table += \"<td>\"+str(dfSend.iloc[i][j])+\"</td>\"\n",
    "        table += \"</tr><tr>\"\n",
    "    table += \"</tr></table>\"\n",
    "    #print(table)"
   ]
  },
  {
   "cell_type": "markdown",
   "metadata": {},
   "source": [
    "# sending E-mail"
   ]
  },
  {
   "cell_type": "code",
   "execution_count": null,
   "metadata": {},
   "outputs": [],
   "source": [
    "message = MIMEMultipart(\"alternative\")\n",
    "message[\"Subject\"] = emailSubject\n",
    "message[\"From\"] = emailSender\n",
    "message[\"To\"] = \", \".join(emailReceiver)\n",
    "\n",
    "# Create the plain-text and HTML version of your message\n",
    "if not boolTable:\n",
    "    table = \"\"\n",
    "\n",
    "html = \"\"\"\\\n",
    "<html>\n",
    "  <body>\n",
    "    <p>\"\"\"+emailBody+\"\"\"<br>\n",
    "    \"\"\"+table+\"\"\"\n",
    "    </p>\n",
    "  </body>\n",
    "</html>\n",
    "\"\"\"\n",
    "\n",
    "# Turn these into plain/html MIMEText objects\n",
    "text = MIMEText(html, \"html\")\n",
    "\n",
    "# Add HTML/plain-text parts to MIMEMultipart message\n",
    "# The email client will try to render the last part first\n",
    "message.attach(text)\n",
    "\n",
    "for p in list(dPics.keys()):\n",
    "    if dPics[p][\"toSend\"]:\n",
    "        imageFile = workDir+dPics[p][\"fName\"]\n",
    "        img_data = open(imageFile, 'rb').read()\n",
    "        image = MIMEImage(img_data, name=(imageFile))\n",
    "        message.attach(image)\n",
    "\n",
    "# Create secure connection with server and send email\n",
    "context = ssl.create_default_context()\n",
    "with smtplib.SMTP_SSL(\"smtp.gmail.com\", 465, context=context) as server:\n",
    "    server.login(emailSender, password)\n",
    "    server.sendmail(\n",
    "        emailSender, emailReceiver, message.as_string()\n",
    "    )\n",
    "    server.quit()\n",
    "    \n",
    "print(\"> Message sent\")"
   ]
  }
 ],
 "metadata": {
  "kernelspec": {
   "display_name": "Python 3",
   "language": "python",
   "name": "python3"
  },
  "language_info": {
   "codemirror_mode": {
    "name": "ipython",
    "version": 3
   },
   "file_extension": ".py",
   "mimetype": "text/x-python",
   "name": "python",
   "nbconvert_exporter": "python",
   "pygments_lexer": "ipython3",
   "version": "3.7.3"
  }
 },
 "nbformat": 4,
 "nbformat_minor": 4
}
